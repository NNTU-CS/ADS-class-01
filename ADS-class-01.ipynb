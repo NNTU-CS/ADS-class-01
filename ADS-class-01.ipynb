{
 "cells": [
  {
   "cell_type": "markdown",
   "metadata": {},
   "source": [
    "# Практическое занятие 01. Итерация и рекурсия "
   ]
  },
  {
   "cell_type": "markdown",
   "metadata": {},
   "source": [
    "**Итерация** и **рекурсия** - это два подхода к составлению алгоритмов, использующих повторение. Они взаимозаменяемы, но обычно используются в разных задачах. Итерация, как правило, более экономна к расходу памяти и достаточно быстродейственна, а рекурсия мо- жет приводить к более лаконичным и красивым решениям.\n"
   ]
  },
  {
   "cell_type": "markdown",
   "metadata": {},
   "source": [
    "### Задача 1. Вычисление факториала целого числа"
   ]
  },
  {
   "cell_type": "markdown",
   "metadata": {},
   "source": [
    "Запишем первый способ вычисления факториала:"
   ]
  },
  {
   "cell_type": "markdown",
   "metadata": {},
   "source": [
    "$ n! = n * (n-1) * (n-2) * ... * 1 $"
   ]
  },
  {
   "cell_type": "markdown",
   "metadata": {},
   "source": [
    "Эта запись предполагает итеративное решение (с помощью цикла)"
   ]
  },
  {
   "cell_type": "code",
   "execution_count": 7,
   "metadata": {},
   "outputs": [],
   "source": [
    "#include <iostream>"
   ]
  },
  {
   "cell_type": "code",
   "execution_count": 2,
   "metadata": {},
   "outputs": [
    {
     "name": "stdout",
     "output_type": "stream",
     "text": [
      "120"
     ]
    },
    {
     "data": {
      "text/plain": [
       "@0x10974bc30"
      ]
     },
     "execution_count": 2,
     "metadata": {},
     "output_type": "execute_result"
    }
   ],
   "source": [
    "int fact1(int n) {\n",
    "    int result=1;\n",
    "    for(int i=n; i>=1; i--)\n",
    "       result *=i;\n",
    "    return result;\n",
    "}\n",
    "std::cout << fact1(5); // 5*4*3*2*1"
   ]
  },
  {
   "cell_type": "markdown",
   "metadata": {},
   "source": [
    "Есть другой способ итеративного вычисления факториала:"
   ]
  },
  {
   "cell_type": "markdown",
   "metadata": {},
   "source": [
    "$ n! = 1 * 2 * .... * (n-1) * n$"
   ]
  },
  {
   "cell_type": "markdown",
   "metadata": {},
   "source": [
    "Соответствующая программа может выглядеть так:"
   ]
  },
  {
   "cell_type": "code",
   "execution_count": 2,
   "metadata": {},
   "outputs": [
    {
     "name": "stdout",
     "output_type": "stream",
     "text": [
      "120"
     ]
    }
   ],
   "source": [
    "int fact2(int n) {\n",
    "    int result=1;\n",
    "    for(int i=1; i<=n; i++)\n",
    "       result *=i;\n",
    "    return result;\n",
    "}\n",
    "std::cout << fact2(5); "
   ]
  },
  {
   "cell_type": "markdown",
   "metadata": {},
   "source": [
    "Теперь запишем вычисление факториала в рекурсивном виде"
   ]
  },
  {
   "cell_type": "markdown",
   "metadata": {},
   "source": [
    "$ n! = n * (n-1)!, n>1 $\n",
    "\n",
    "$ n! = 1,          n=1 $"
   ]
  },
  {
   "cell_type": "code",
   "execution_count": 3,
   "metadata": {},
   "outputs": [
    {
     "name": "stdout",
     "output_type": "stream",
     "text": [
      "120"
     ]
    }
   ],
   "source": [
    "int fact3(int n) {\n",
    "    if(n==1)\n",
    "        return 1;\n",
    "    else\n",
    "        return n * fact3(n-1);\n",
    "}\n",
    "std::cout << fact3(5); "
   ]
  },
  {
   "cell_type": "markdown",
   "metadata": {},
   "source": [
    "В качестве достоинства приведенного решения можно указать отсутствие вспомогатель- ных (временных) переменных. На самом деле, промежуточные результаты сохраняются в стековой памяти."
   ]
  },
  {
   "cell_type": "markdown",
   "metadata": {},
   "source": [
    "![](./fact.png)"
   ]
  },
  {
   "cell_type": "markdown",
   "metadata": {},
   "source": [
    "### Задача 2. Вычисление суммы элементов массива"
   ]
  },
  {
   "cell_type": "markdown",
   "metadata": {},
   "source": [
    "Итеративный способ\n",
    "\n",
    "Запишем выражение суммы для массива, в котором $S_i$ - сумма в массиве из одного элемента на позиции i"
   ]
  },
  {
   "cell_type": "markdown",
   "metadata": {},
   "source": [
    "$ S = S_1 + S_2 + ... + S_n $"
   ]
  },
  {
   "cell_type": "markdown",
   "metadata": {},
   "source": [
    "Нахождение суммы элемента массива итеративным способом предполагает использование аккумулятора (sum), начальное значение которого обнуляется. В процессе работы алгоритма мы обращаемся последовательно к каждому элементу массива по смещению (i) и приплюсовываем его значение к аккумулятору.\n"
   ]
  },
  {
   "cell_type": "code",
   "execution_count": 3,
   "metadata": {},
   "outputs": [
    {
     "name": "stdout",
     "output_type": "stream",
     "text": [
      "30"
     ]
    }
   ],
   "source": [
    "int arrSum1(int a[], int n) {\n",
    "    int sum=0;\n",
    "    for(int i=0;i<n;i++)\n",
    "        sum+=a[i];\n",
    "    return sum;\n",
    "}\n",
    "\n",
    "const int n = 5;\n",
    "int arr[n]={6,7,8,9,0};\n",
    "std::cout << arrSum1(arr,n);"
   ]
  },
  {
   "cell_type": "markdown",
   "metadata": {},
   "source": [
    "Рекурсивный способ\n",
    "\n",
    "Массив разбивается на два подмассива, поэтому сумма считается как сумма сумм подмассивов"
   ]
  },
  {
   "cell_type": "markdown",
   "metadata": {},
   "source": [
    "$ S = S_1 + S_2..n, n>1 $\n",
    "\n",
    "$ S = S_1, n=1 $"
   ]
  },
  {
   "cell_type": "code",
   "execution_count": 15,
   "metadata": {},
   "outputs": [
    {
     "name": "stdout",
     "output_type": "stream",
     "text": [
      "30"
     ]
    }
   ],
   "source": [
    "int arrSum2(int a[], int n) {\n",
    "    if(n==1)\n",
    "        return a[0];\n",
    "    else\n",
    "        return a[0]+arrSum2(a+1,n-1);\n",
    "}\n",
    "const int n = 5;\n",
    "int arr[n]={6,7,8,9,0};\n",
    "std::cout << arrSum2(arr,n);"
   ]
  },
  {
   "cell_type": "markdown",
   "metadata": {},
   "source": [
    "Недостатком приведенной реализации является большая глубина рекурсии, почти равная размеру массива. Для крупных массивов это может привести к переполнению стека и аварийному завершению программы."
   ]
  },
  {
   "cell_type": "markdown",
   "metadata": {},
   "source": [
    "Вторая реализация использует разбиение массива на две равные (почти равные) части и суммирование сумм этих частей. Благодаря такому разделению, глубина рекурсии будет пропорциональна $log(n)$, что безопасно с точки зрения переполнения стека."
   ]
  },
  {
   "cell_type": "code",
   "execution_count": null,
   "metadata": {},
   "outputs": [],
   "source": [
    "      1 2 + 3 4 5\n",
    "    1 + 2 | 3 + 4 5\n",
    "          |     4 + 5    "
   ]
  },
  {
   "cell_type": "code",
   "execution_count": 8,
   "metadata": {},
   "outputs": [
    {
     "name": "stdout",
     "output_type": "stream",
     "text": [
      "30"
     ]
    }
   ],
   "source": [
    "int arrSum3(int a[], int n) {\n",
    "    if(n==1)\n",
    "        return a[0];\n",
    "    else\n",
    "        return arrSum3(a,n/2)+arrSum3(a+n/2,n-n/2);\n",
    "}\n",
    "const int n = 5;\n",
    "int arr[n]={6,7,8,9,0};\n",
    "std::cout << arrSum3(arr,n);"
   ]
  },
  {
   "cell_type": "markdown",
   "metadata": {},
   "source": [
    "### Задача 3. Вычисление ряда Фибоначчи"
   ]
  },
  {
   "cell_type": "markdown",
   "metadata": {},
   "source": [
    "Рассмотрим задачу нахождения n-ого члена ряда Фибоначчи\n",
    "0,1,1,2,3,5,8,13,21,34,55...\n",
    "В этом ряду определяются элементы с номерами 1 и 2, а последующие элементы считаются как сумма двух предыдущих элементов"
   ]
  },
  {
   "cell_type": "code",
   "execution_count": 13,
   "metadata": {},
   "outputs": [],
   "source": [
    "#include <iostream>\n",
    "#include <ctime>\n",
    "#include <cstdint>"
   ]
  },
  {
   "cell_type": "code",
   "execution_count": 16,
   "metadata": {},
   "outputs": [],
   "source": [
    "// 0,1,1,2,3,5,8,13,21,34,55...\n",
    "\n",
    "uint64_t fib1(uint64_t n) \n",
    "{\n",
    "    if(n==1)\n",
    "        return 0;\n",
    "    if(n==2)\n",
    "        return 1;\n",
    "    else\n",
    "        return fib1(n-1) + fib1(n-2);\n",
    "}"
   ]
  },
  {
   "cell_type": "markdown",
   "metadata": {},
   "source": [
    "Для исследования времени работы функции fib создадим цикл, в котором будем счиать время работы для n=30,32,34,...,44\n",
    "После измерений построим график зависимости времени работы от n."
   ]
  },
  {
   "cell_type": "code",
   "execution_count": 17,
   "metadata": {},
   "outputs": [
    {
     "name": "stdout",
     "output_type": "stream",
     "text": [
      "0.003833\n",
      "0.007286\n",
      "0.01098\n",
      "0.017483\n",
      "0.027007\n",
      "0.040678\n",
      "0.065451\n"
     ]
    }
   ],
   "source": [
    "for(int i = 0, n = 30; i < 7; i++, n+=1) {\n",
    "   clock_t start = clock();\n",
    "   uint64_t result = fib1(n);\n",
    "   clock_t finish = clock();\n",
    "   std::cout << (double)(finish-start)/CLOCKS_PER_SEC << std::endl;\n",
    "}"
   ]
  },
  {
   "cell_type": "markdown",
   "metadata": {},
   "source": [
    "Нетрудно видеть, что время растет по экспоненциальному закону. Это вызвано тем, что при вычислениях мы не где не сохраняем ранее вычислнные значения и их приходится считать по 2 раза (для n-1 и для n-2). В результате разрастается дерево рекурсии."
   ]
  },
  {
   "cell_type": "markdown",
   "metadata": {},
   "source": [
    "![](./fib-tree.png)"
   ]
  },
  {
   "cell_type": "markdown",
   "metadata": {},
   "source": [
    "Теперь изменим решение, перейдя от экспоненциальной рекурсии к линейной. Для этого, накопленная сумма двух элементов передается при рекурсивном вызове. Мы также передаем счетчик, который считает от n до 0 и 0 выступает условием выхода из рекурсии."
   ]
  },
  {
   "cell_type": "code",
   "execution_count": 4,
   "metadata": {},
   "outputs": [],
   "source": [
    "// 0,1,1,2,3,5,8,13,21,34,...\n",
    "uint64_t fibIter(uint64_t a, uint64_t b, uint64_t count) {\n",
    "    if(count==0)\n",
    "        return b;\n",
    "    else\n",
    "        return fibIter(a + b, a, --count);\n",
    "}"
   ]
  },
  {
   "cell_type": "code",
   "execution_count": 5,
   "metadata": {},
   "outputs": [],
   "source": [
    "// decorate\n",
    "uint64_t fib2(uint64_t n) {\n",
    "    return fibIter(0,1,n);\n",
    "}"
   ]
  },
  {
   "cell_type": "code",
   "execution_count": 8,
   "metadata": {},
   "outputs": [
    {
     "name": "stdout",
     "output_type": "stream",
     "text": [
      "7778742049\n"
     ]
    }
   ],
   "source": [
    "std::cout << fib2(50) << std::endl;"
   ]
  },
  {
   "cell_type": "code",
   "execution_count": null,
   "metadata": {},
   "outputs": [],
   "source": []
  }
 ],
 "metadata": {
  "kernelspec": {
   "display_name": "C++11 [conda env:xeus-cling]",
   "language": "C++11",
   "name": "conda-env-xeus-cling-xcpp11"
  },
  "language_info": {
   "codemirror_mode": "text/x-c++src",
   "file_extension": ".cpp",
   "mimetype": "text/x-c++src",
   "name": "c++",
   "version": "11"
  }
 },
 "nbformat": 4,
 "nbformat_minor": 4
}
